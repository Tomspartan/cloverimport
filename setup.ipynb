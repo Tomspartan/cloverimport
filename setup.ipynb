{
 "cells": [
  {
   "cell_type": "code",
   "execution_count": 1,
   "metadata": {},
   "outputs": [],
   "source": [
    "import pandas as pd\n",
    "import openpyxl\n",
    "import shutil"
   ]
  },
  {
   "cell_type": "code",
   "execution_count": 2,
   "metadata": {},
   "outputs": [],
   "source": [
    "# Read data from the source Excel file\n",
    "source_file = 'EdREhmann_S25ProductFilterwCost.xlsx'\n",
    "columns = ['Name','Material','Cost','Size','Dimension','UPC','New/Carryover']\n",
    "data = pd.read_excel(source_file,header=1,usecols=columns) # 0-indexed\n",
    "\n",
    "# Drop rows that are Carryover\n",
    "carryover = data[data['New/Carryover'] == 'Carryover'].index\n",
    "data.drop(carryover, inplace=True)\n",
    "\n",
    "#Replace NaN with empty strings\n",
    "data['Dimension'] = data['Dimension'].fillna('')\n",
    "data['Size'] = data['Size'].fillna('')\n",
    "data['Material'] = data['Material'].fillna('')\n",
    "\n",
    "# Calculate Price unit based on Cost (pu = (cost*2)*.85)\n",
    "data['Price Unit'] = (data['Cost']*2)*.85"
   ]
  },
  {
   "cell_type": "code",
   "execution_count": 3,
   "metadata": {},
   "outputs": [],
   "source": [
    "# Create Marc approved name for use on customer receipt\n",
    "data['Name'] = data[['Material','Size','Dimension']].aggregate('-'.join, axis=1)\n",
    "\n",
    "# Remove the now unneeded columns\n",
    "data.drop(columns=['Material','Size','Dimension','New/Carryover'],inplace=True)\n",
    "\n",
    "# Rename to match Clover format\n",
    "data.rename(columns={'UPC':'Product Code'},inplace=True)\n",
    "\n",
    "# Add columns to match Clover format, some with default values\n",
    "data.insert(0,'Clover ID','')\n",
    "data.insert(2,'Alternate Name','')\n",
    "data.insert(3,'Price','0')\n",
    "data.insert(4,'Price Type','FIXED')\n",
    "data.insert(6,'Tax Rates','DEFAULT')\n",
    "data.insert(7,'SKU','')\n",
    "data.insert(8,'Modifier Groups','')\n",
    "data.insert(9,'Quantity','0')\n",
    "data.insert(10,'Printer Labels','')\n",
    "data.insert(11,'Hidden','FALSE')\n",
    "data.insert(12,'Non-revenue item','FALSE')\n"
   ]
  },
  {
   "cell_type": "code",
   "execution_count": 4,
   "metadata": {},
   "outputs": [
    {
     "data": {
      "text/plain": [
       "'CloverInventoryoutput.xlsx'"
      ]
     },
     "execution_count": 4,
     "metadata": {},
     "output_type": "execute_result"
    }
   ],
   "source": [
    "# Copy the template file to the output file. We'll overwrite the 'Items' sheet\n",
    "template = 'CloverInventoryTemplate_Small.xlsx'\n",
    "output_file = 'CloverInventoryoutput.xlsx'\n",
    "shutil.copy2(template,output_file)"
   ]
  },
  {
   "cell_type": "code",
   "execution_count": 5,
   "metadata": {},
   "outputs": [],
   "source": [
    "# Write the data to the output file\n",
    "with pd.ExcelWriter(output_file, engine='openpyxl', mode='a', if_sheet_exists='replace') as writer:\n",
    "    data.to_excel(writer,sheet_name='Items', index=False)"
   ]
  }
 ],
 "metadata": {
  "kernelspec": {
   "display_name": ".venv",
   "language": "python",
   "name": "python3"
  },
  "language_info": {
   "codemirror_mode": {
    "name": "ipython",
    "version": 3
   },
   "file_extension": ".py",
   "mimetype": "text/x-python",
   "name": "python",
   "nbconvert_exporter": "python",
   "pygments_lexer": "ipython3",
   "version": "3.13.1"
  }
 },
 "nbformat": 4,
 "nbformat_minor": 2
}
